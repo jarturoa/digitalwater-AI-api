{
 "cells": [
  {
   "cell_type": "markdown",
   "metadata": {},
   "source": [
    "# Ale heroku"
   ]
  },
  {
   "cell_type": "markdown",
   "metadata": {},
   "source": [
    "This was a test made by one of our team members. "
   ]
  },
  {
   "cell_type": "code",
   "execution_count": 13,
   "metadata": {},
   "outputs": [
    {
     "name": "stdout",
     "output_type": "stream",
     "text": [
      "<Response [200]>\n",
      "{'results': '[583.52215379]'}\n"
     ]
    }
   ],
   "source": [
    "import requests\n",
    "import json\n",
    "\n",
    "url = 'https://api-supply-models.herokuapp.com/predictMontly' # change to your url\n",
    "data = {'0': 1\n",
    "      , '1': 4\n",
    "      , '2': 4289948.83776\n",
    "      , '3': 229.5\n",
    "      , '4': 84.39582472\n",
    "      , '5': 101.50930605\n",
    "      , '6': 461.955377\n",
    "      , '7': 942.071072\n",
    "      , '8': 268.45742538\n",
    "      , '9': 831.760486\n",
    "      , '10': 5.17430607\n",
    "      , '11': 16.2171337\n",
    "      , '12': 49.20342242\n",
    "      , '13': 90.52431235\n",
    "      , '14': 29.19027778\n",
    "      , '15': 1\n",
    "      , '16': 944.87321779}\n",
    "#data = json.dumps(data)\n",
    "send_request = requests.post(url, json=data)\n",
    "print(send_request)\n",
    "#print(send_request.result())\n",
    "print(send_request.json())\n"
   ]
  },
  {
   "cell_type": "markdown",
   "metadata": {},
   "source": [
    "# arturo heroku"
   ]
  },
  {
   "cell_type": "markdown",
   "metadata": {},
   "source": [
    "This is the current heroku api that the webapp will make requests to."
   ]
  },
  {
   "cell_type": "code",
   "execution_count": 2,
   "metadata": {},
   "outputs": [
    {
     "name": "stdout",
     "output_type": "stream",
     "text": [
      "<Response [200]>\n",
      "{'results': '[328.99769148]'}\n"
     ]
    }
   ],
   "source": [
    "import requests\n",
    "import json\n",
    "\n",
    "url = 'https://digitalwater-models.herokuapp.com/predictMontly' # change to your url\n",
    "data = {'0': 1 #mes\n",
    "      , '1': 4 #year\n",
    "      , '2': 4289948.83776 #pob\n",
    "      , '3': 229.5 #rain\n",
    "      , '4': 84.39582472 #inpc\n",
    "      , '5': 101.50930605 #inpp\n",
    "      , '6': 461.955377 #maxdhi\n",
    "      , '7': 942.071072 #maxdni\n",
    "      , '8': 268.45742538 #av.ghi\n",
    "      , '9': 831.760486 #maxghi\n",
    "      , '10': 5.17430607 #avdp\n",
    "      , '11': 1.62359422 #avws\n",
    "      , '12': 16.2171337 #minrh\n",
    "      , '13': 49.20342242 #avrh\n",
    "      , '14': 90.52431235 #maxrh\n",
    "      , '15': 29.19027778 #avTemp\n",
    "      , '16': 944.87321779} #avP\n",
    "#data = json.dumps(data)\n",
    "send_request = requests.post(url, json=data)\n",
    "print(send_request)\n",
    "#print(send_request.result())\n",
    "print(send_request.json())\n"
   ]
  },
  {
   "cell_type": "code",
   "execution_count": 18,
   "metadata": {},
   "outputs": [
    {
     "name": "stdout",
     "output_type": "stream",
     "text": [
      "<Response [200]>\n",
      "{'results': '11784.351892901775'}\n"
     ]
    }
   ],
   "source": [
    "import requests\n",
    "import json\n",
    "\n",
    "url = 'https://digitalwater-models.herokuapp.com/predictDaily' # change to your url\n",
    "data = {'0': 11375\n",
    "      , '1': 40.333332\n",
    "      , '2': 202\n",
    "      , '3': 5.4166665\n",
    "      , '4': 53\n",
    "      , '5': 43.20833\n",
    "      , '6': 232\n",
    "      , '7': 3.8999991\n",
    "      , '8': 5.2208343\n",
    "      , '9': 6.8\n",
    "      , '10': 1.1\n",
    "      , '11': 1.8125\n",
    "      , '12': 2.8\n",
    "      , '13': 1.3\n",
    "      , '14': 2.4833333\n",
    "      , '15': 3\n",
    "      , '16': 40.96\n",
    "      , '17': 62.2125\n",
    "      , '18': 75.75\n",
    "      , '19': 8.3\n",
    "      , '20': 12.595835\n",
    "      , '21': 18.600002\n",
    "      , '22': 951\t\n",
    "      , '23': 955.25\t\n",
    "      , '24': 959\n",
    "      , '25': 0\n",
    "      , '26': 1\n",
    "      , '27': 1\n",
    "      , '28': 2018\n",
    "      , '29': 29.999998\n",
    "      , '30': 6\n",
    "      , '31': 12}\n",
    "#data = json.dumps(data)\n",
    "send_request = requests.post(url, json=data)\n",
    "print(send_request)\n",
    "#print(send_request.result())\n",
    "print(send_request.json())\n"
   ]
  },
  {
   "cell_type": "markdown",
   "metadata": {},
   "source": [
    "# Test on LOCAL"
   ]
  },
  {
   "cell_type": "markdown",
   "metadata": {},
   "source": [
    "Here you can test the API run locally. It recieves 17 features and returns the prediction for monthly."
   ]
  },
  {
   "cell_type": "code",
   "execution_count": 15,
   "metadata": {},
   "outputs": [
    {
     "name": "stdout",
     "output_type": "stream",
     "text": [
      "<Response [200]>\n",
      "{'results': '[583.52215379]'}\n"
     ]
    }
   ],
   "source": [
    "import requests\n",
    "import json\n",
    "\n",
    "url = 'http://127.0.0.1:5000/predictMontly' # change to your url\n",
    "data = {'0': 1\n",
    "      , '1': 4\n",
    "      , '2': 4289948.83776\n",
    "      , '3': 229.5\n",
    "      , '4': 84.39582472\n",
    "      , '5': 101.50930605\n",
    "      , '6': 461.955377\n",
    "      , '7': 942.071072\n",
    "      , '8': 268.45742538\n",
    "      , '9': 831.760486\n",
    "      , '10': 5.17430607\n",
    "      , '11': 16.2171337\n",
    "      , '12': 49.20342242\n",
    "      , '13': 90.52431235\n",
    "      , '14': 29.19027778\n",
    "      , '15': 1\n",
    "      , '16': 944.87321779}\n",
    "#data = json.dumps(data)\n",
    "send_request = requests.post(url, json=data)\n",
    "print(send_request)\n",
    "#print(send_request.result())\n",
    "print(send_request.json())\n"
   ]
  },
  {
   "cell_type": "markdown",
   "metadata": {},
   "source": [
    "Here you can test the API run locally. It recieves 32 features and returns the prediction for daily."
   ]
  },
  {
   "cell_type": "code",
   "execution_count": 10,
   "metadata": {},
   "outputs": [
    {
     "name": "stdout",
     "output_type": "stream",
     "text": [
      "<Response [200]>\n",
      "{'results': '11784.351892901775'}\n"
     ]
    }
   ],
   "source": [
    "import requests\n",
    "import json\n",
    "\n",
    "url = 'http://127.0.0.1:5000/predictDaily' # change to your url\n",
    "data = {'0': 11375\n",
    "      , '1': 40.333332\n",
    "      , '2': 202\n",
    "      , '3': 5.4166665\n",
    "      , '4': 53\n",
    "      , '5': 43.20833\n",
    "      , '6': 232\n",
    "      , '7': 3.8999991\n",
    "      , '8': 5.2208343\n",
    "      , '9': 6.8\n",
    "      , '10': 1.1\n",
    "      , '11': 1.8125\n",
    "      , '12': 2.8\n",
    "      , '13': 1.3\n",
    "      , '14': 2.4833333\n",
    "      , '15': 3\n",
    "      , '16': 40.96\n",
    "      , '17': 62.2125\n",
    "      , '18': 75.75\n",
    "      , '19': 8.3\n",
    "      , '20': 12.595835\n",
    "      , '21': 18.600002\n",
    "      , '22': 951\t\n",
    "      , '23': 955.25\t\n",
    "      , '24': 959\n",
    "      , '25': 0\n",
    "      , '26': 1\n",
    "      , '27': 1\n",
    "      , '28': 2018\n",
    "      , '29': 29.999998\n",
    "      , '30': 6\n",
    "      , '31': 12}\n",
    "#data = json.dumps(data)\n",
    "send_request = requests.post(url, json=data)\n",
    "print(send_request)\n",
    "#print(send_request.result())\n",
    "print(send_request.json())\n"
   ]
  },
  {
   "cell_type": "code",
   "execution_count": null,
   "metadata": {},
   "outputs": [],
   "source": []
  }
 ],
 "metadata": {
  "kernelspec": {
   "display_name": "Python 3",
   "language": "python",
   "name": "python3"
  },
  "language_info": {
   "codemirror_mode": {
    "name": "ipython",
    "version": 3
   },
   "file_extension": ".py",
   "mimetype": "text/x-python",
   "name": "python",
   "nbconvert_exporter": "python",
   "pygments_lexer": "ipython3",
   "version": "3.7.7"
  }
 },
 "nbformat": 4,
 "nbformat_minor": 4
}
